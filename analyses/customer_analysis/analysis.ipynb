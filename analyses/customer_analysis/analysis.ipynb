{
 "cells": [
  {
   "cell_type": "code",
   "execution_count": 2,
   "metadata": {},
   "outputs": [],
   "source": [
    "# Impoart libraries.\n",
    "import pandas as pd"
   ]
  },
  {
   "cell_type": "code",
   "execution_count": 22,
   "metadata": {},
   "outputs": [],
   "source": [
    "# Read input data.\n",
    "cust_data = pd.read_csv(\"customer_data.csv\")\n",
    "trans_data = pd.read_csv(\"transaction_data.csv\")\n",
    "\n",
    "# FX rate are for 1 GBP and assumes no change over time for simplicity.\n",
    "fx_data = pd.read_csv(\"fx_gbp.csv\",header=1, skiprows=[0,2], usecols=[\"currency\", \"rate\"])"
   ]
  },
  {
   "cell_type": "code",
   "execution_count": 23,
   "metadata": {},
   "outputs": [
    {
     "name": "stdout",
     "output_type": "stream",
     "text": [
      "  currency         rate\n",
      "0      THB    37.386304\n",
      "1      BIF  2242.924895\n",
      "2      NGN   439.534518\n",
      "3      LKR   214.801634\n",
      "4      CHF     1.194301\n"
     ]
    }
   ],
   "source": [
    "print(fx_data.head())"
   ]
  },
  {
   "cell_type": "code",
   "execution_count": 24,
   "metadata": {},
   "outputs": [
    {
     "name": "stdout",
     "output_type": "stream",
     "text": [
      "   purchase_id  buyer_id country  product_id   department     category  \\\n",
      "0            3  10258663      AU   113961581  Accessories  Accessories   \n",
      "1            6   9135670      AU   114780505  Accessories  Accessories   \n",
      "2            9  10869093      AU   115216176  Accessories  Accessories   \n",
      "3           27  10182131      AU   112217251  Accessories  Accessories   \n",
      "4           31   5766224      AU   107519551  Accessories  Accessories   \n",
      "\n",
      "  purchase_date currency  value_of_item  \n",
      "0    02/08/2019      AUD           15.0  \n",
      "1    02/08/2019      AUD           33.5  \n",
      "2    07/08/2019      AUD           65.0  \n",
      "3    02/08/2019      AUD           40.0  \n",
      "4    02/08/2019      AUD           25.0  \n"
     ]
    }
   ],
   "source": [
    "print(trans_data.head())"
   ]
  },
  {
   "cell_type": "code",
   "execution_count": 25,
   "metadata": {},
   "outputs": [
    {
     "name": "stdout",
     "output_type": "stream",
     "text": [
      "   buyer_id gender  membership_length age_group\n",
      "0       505      F                0.2     50-60\n",
      "1      1989      F                0.8       60+\n",
      "2      2234      F                0.4     50-60\n",
      "3      2619      F                0.4     50-60\n",
      "4      3392      F                2.3     50-60\n"
     ]
    }
   ],
   "source": [
    "print(cust_data.head())"
   ]
  }
 ],
 "metadata": {
  "kernelspec": {
   "display_name": "base",
   "language": "python",
   "name": "python3"
  },
  "language_info": {
   "codemirror_mode": {
    "name": "ipython",
    "version": 3
   },
   "file_extension": ".py",
   "mimetype": "text/x-python",
   "name": "python",
   "nbconvert_exporter": "python",
   "pygments_lexer": "ipython3",
   "version": "3.12.2"
  }
 },
 "nbformat": 4,
 "nbformat_minor": 2
}
