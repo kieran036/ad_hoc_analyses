{
 "cells": [
  {
   "cell_type": "code",
   "execution_count": 1,
   "metadata": {},
   "outputs": [],
   "source": [
    "# Import libraries.\n",
    "import pandas as pd"
   ]
  },
  {
   "cell_type": "code",
   "execution_count": 2,
   "metadata": {},
   "outputs": [],
   "source": [
    "# Read input data.\n",
    "cust_data = pd.read_csv(\"raw_data/customer_data.csv\")\n",
    "trans_data = pd.read_csv(\"raw_data/transaction_data.csv\")\n",
    "\n",
    "# FX rate are for 1 GBP and assumes no change over time for simplicity.\n",
    "fx_data = pd.read_csv(\"raw_data/fx_gbp.csv\",header=1, skiprows=[0,2], usecols=[\"currency\", \"rate\"])\n",
    "\n",
    "# len(fx_data.currency.unique())\n",
    "# len(trans_data.currency.unique())"
   ]
  },
  {
   "cell_type": "code",
   "execution_count": 3,
   "metadata": {},
   "outputs": [
    {
     "name": "stdout",
     "output_type": "stream",
     "text": [
      "  currency         rate\n",
      "0      THB    37.386304\n",
      "1      BIF  2242.924895\n",
      "2      NGN   439.534518\n",
      "3      LKR   214.801634\n",
      "4      CHF     1.194301\n"
     ]
    }
   ],
   "source": [
    "print(fx_data.head())"
   ]
  },
  {
   "cell_type": "code",
   "execution_count": 4,
   "metadata": {},
   "outputs": [
    {
     "name": "stdout",
     "output_type": "stream",
     "text": [
      "   purchase_id  buyer_id country  product_id   department     category  \\\n",
      "0            3  10258663      AU   113961581  Accessories  Accessories   \n",
      "1            6   9135670      AU   114780505  Accessories  Accessories   \n",
      "2            9  10869093      AU   115216176  Accessories  Accessories   \n",
      "3           27  10182131      AU   112217251  Accessories  Accessories   \n",
      "4           31   5766224      AU   107519551  Accessories  Accessories   \n",
      "\n",
      "  purchase_date currency  value_of_item  \n",
      "0    02/08/2019      AUD           15.0  \n",
      "1    02/08/2019      AUD           33.5  \n",
      "2    07/08/2019      AUD           65.0  \n",
      "3    02/08/2019      AUD           40.0  \n",
      "4    02/08/2019      AUD           25.0  \n"
     ]
    }
   ],
   "source": [
    "print(trans_data.head())"
   ]
  },
  {
   "cell_type": "code",
   "execution_count": 5,
   "metadata": {},
   "outputs": [
    {
     "name": "stdout",
     "output_type": "stream",
     "text": [
      "   buyer_id gender  membership_length age_group\n",
      "0       505      F                0.2     50-60\n",
      "1      1989      F                0.8       60+\n",
      "2      2234      F                0.4     50-60\n",
      "3      2619      F                0.4     50-60\n",
      "4      3392      F                2.3     50-60\n"
     ]
    }
   ],
   "source": [
    "print(cust_data.head())"
   ]
  },
  {
   "cell_type": "code",
   "execution_count": 6,
   "metadata": {},
   "outputs": [
    {
     "name": "stdout",
     "output_type": "stream",
     "text": [
      "   purchase_id  buyer_id country  product_id   department     category  \\\n",
      "0            3  10258663      AU   113961581  Accessories  Accessories   \n",
      "1            6   9135670      AU   114780505  Accessories  Accessories   \n",
      "2            9  10869093      AU   115216176  Accessories  Accessories   \n",
      "3           27  10182131      AU   112217251  Accessories  Accessories   \n",
      "4           31   5766224      AU   107519551  Accessories  Accessories   \n",
      "\n",
      "  purchase_date currency  value_of_item      rate  \n",
      "0    02/08/2019      AUD           15.0  1.799521  \n",
      "1    02/08/2019      AUD           33.5  1.799521  \n",
      "2    07/08/2019      AUD           65.0  1.799521  \n",
      "3    02/08/2019      AUD           40.0  1.799521  \n",
      "4    02/08/2019      AUD           25.0  1.799521  \n"
     ]
    }
   ],
   "source": [
    "# Join trans_data with fx_gbp for fixed currency for analysis.\n",
    "abt_trans = pd.merge(left=trans_data, right=fx_data, how=\"left\", on=\"currency\")\n",
    "print(abt_trans.head())"
   ]
  },
  {
   "cell_type": "code",
   "execution_count": 7,
   "metadata": {},
   "outputs": [
    {
     "data": {
      "text/plain": [
       "0"
      ]
     },
     "execution_count": 7,
     "metadata": {},
     "output_type": "execute_result"
    }
   ],
   "source": [
    "# Check if there are any missing rates from the join.\n",
    "sum(abt_trans['rate'].isna()) # Output shows all good."
   ]
  },
  {
   "cell_type": "code",
   "execution_count": 8,
   "metadata": {},
   "outputs": [
    {
     "name": "stdout",
     "output_type": "stream",
     "text": [
      "      purchase_id  buyer_id country  product_id   department     category  \\\n",
      "1351        15394  15244480     RoW    47083009  Accessories  Accessories   \n",
      "1386        15844  10237835      DE   115404303  Accessories  Accessories   \n",
      "1418        16215  12271165     RoW   114976510  Accessories  Accessories   \n",
      "1424        16292   9758568      DE   104409015  Accessories  Accessories   \n",
      "1425        16324   6088950     RoW   114404956  Accessories  Accessories   \n",
      "\n",
      "     purchase_date currency  value_of_item  rate  \n",
      "1351    07/08/2019      GBP          51.00   1.0  \n",
      "1386    07/08/2019      GBP           8.00   1.0  \n",
      "1418    07/08/2019      GBP          90.00   1.0  \n",
      "1424    02/08/2019      GBP         158.99   1.0  \n",
      "1425    01/08/2019      GBP          34.00   1.0  \n"
     ]
    }
   ],
   "source": [
    "# EDA\n",
    "# Check if currency = 'GBP' use only in country = 'GB'.\n",
    "print(abt_trans[(abt_trans['currency'] == 'GBP') & (abt_trans['country'] != 'GB')].head())\n",
    "\n",
    "# Consumers can pay in different currencies to."
   ]
  },
  {
   "cell_type": "code",
   "execution_count": 9,
   "metadata": {},
   "outputs": [
    {
     "data": {
      "text/html": [
       "<div>\n",
       "<style scoped>\n",
       "    .dataframe tbody tr th:only-of-type {\n",
       "        vertical-align: middle;\n",
       "    }\n",
       "\n",
       "    .dataframe tbody tr th {\n",
       "        vertical-align: top;\n",
       "    }\n",
       "\n",
       "    .dataframe thead th {\n",
       "        text-align: right;\n",
       "    }\n",
       "</style>\n",
       "<table border=\"1\" class=\"dataframe\">\n",
       "  <thead>\n",
       "    <tr style=\"text-align: right;\">\n",
       "      <th></th>\n",
       "      <th>country</th>\n",
       "      <th>currency</th>\n",
       "      <th>count</th>\n",
       "    </tr>\n",
       "  </thead>\n",
       "  <tbody>\n",
       "    <tr>\n",
       "      <th>0</th>\n",
       "      <td>AU</td>\n",
       "      <td>AUD</td>\n",
       "      <td>6828</td>\n",
       "    </tr>\n",
       "    <tr>\n",
       "      <th>4</th>\n",
       "      <td>AU</td>\n",
       "      <td>GBP</td>\n",
       "      <td>270</td>\n",
       "    </tr>\n",
       "    <tr>\n",
       "      <th>7</th>\n",
       "      <td>AU</td>\n",
       "      <td>USD</td>\n",
       "      <td>182</td>\n",
       "    </tr>\n",
       "    <tr>\n",
       "      <th>3</th>\n",
       "      <td>AU</td>\n",
       "      <td>EUR</td>\n",
       "      <td>18</td>\n",
       "    </tr>\n",
       "    <tr>\n",
       "      <th>1</th>\n",
       "      <td>AU</td>\n",
       "      <td>CAD</td>\n",
       "      <td>14</td>\n",
       "    </tr>\n",
       "    <tr>\n",
       "      <th>...</th>\n",
       "      <td>...</td>\n",
       "      <td>...</td>\n",
       "      <td>...</td>\n",
       "    </tr>\n",
       "    <tr>\n",
       "      <th>60</th>\n",
       "      <td>US</td>\n",
       "      <td>HUF</td>\n",
       "      <td>1</td>\n",
       "    </tr>\n",
       "    <tr>\n",
       "      <th>62</th>\n",
       "      <td>US</td>\n",
       "      <td>MYR</td>\n",
       "      <td>1</td>\n",
       "    </tr>\n",
       "    <tr>\n",
       "      <th>64</th>\n",
       "      <td>US</td>\n",
       "      <td>SEK</td>\n",
       "      <td>1</td>\n",
       "    </tr>\n",
       "    <tr>\n",
       "      <th>66</th>\n",
       "      <td>US</td>\n",
       "      <td>THB</td>\n",
       "      <td>1</td>\n",
       "    </tr>\n",
       "    <tr>\n",
       "      <th>67</th>\n",
       "      <td>US</td>\n",
       "      <td>TWD</td>\n",
       "      <td>1</td>\n",
       "    </tr>\n",
       "  </tbody>\n",
       "</table>\n",
       "<p>69 rows × 3 columns</p>\n",
       "</div>"
      ],
      "text/plain": [
       "   country currency  count\n",
       "0       AU      AUD   6828\n",
       "4       AU      GBP    270\n",
       "7       AU      USD    182\n",
       "3       AU      EUR     18\n",
       "1       AU      CAD     14\n",
       "..     ...      ...    ...\n",
       "60      US      HUF      1\n",
       "62      US      MYR      1\n",
       "64      US      SEK      1\n",
       "66      US      THB      1\n",
       "67      US      TWD      1\n",
       "\n",
       "[69 rows x 3 columns]"
      ]
     },
     "execution_count": 9,
     "metadata": {},
     "output_type": "execute_result"
    }
   ],
   "source": [
    "# EDA\n",
    "# Calculate count of payments from each unique country current. Sorts by country ascending and count descending.\n",
    "\n",
    "payment_types = abt_trans[['country','currency']]\n",
    "unique_payment_types = payment_types.groupby(list(payment_types.columns)).size().reset_index(name='count').sort_values(by=['country', 'count'], ascending=[True, False])\n",
    "\n",
    "unique_payment_types"
   ]
  },
  {
   "cell_type": "code",
   "execution_count": 10,
   "metadata": {},
   "outputs": [
    {
     "data": {
      "text/html": [
       "<div>\n",
       "<style scoped>\n",
       "    .dataframe tbody tr th:only-of-type {\n",
       "        vertical-align: middle;\n",
       "    }\n",
       "\n",
       "    .dataframe tbody tr th {\n",
       "        vertical-align: top;\n",
       "    }\n",
       "\n",
       "    .dataframe thead th {\n",
       "        text-align: right;\n",
       "    }\n",
       "</style>\n",
       "<table border=\"1\" class=\"dataframe\">\n",
       "  <thead>\n",
       "    <tr style=\"text-align: right;\">\n",
       "      <th></th>\n",
       "      <th>purchase_id</th>\n",
       "      <th>buyer_id</th>\n",
       "      <th>country</th>\n",
       "      <th>product_id</th>\n",
       "      <th>department</th>\n",
       "      <th>category</th>\n",
       "      <th>purchase_date</th>\n",
       "      <th>currency</th>\n",
       "      <th>value_of_item</th>\n",
       "      <th>rate</th>\n",
       "      <th>gbp_value_of_item</th>\n",
       "    </tr>\n",
       "  </thead>\n",
       "  <tbody>\n",
       "    <tr>\n",
       "      <th>0</th>\n",
       "      <td>3</td>\n",
       "      <td>10258663</td>\n",
       "      <td>AU</td>\n",
       "      <td>113961581</td>\n",
       "      <td>Accessories</td>\n",
       "      <td>Accessories</td>\n",
       "      <td>02/08/2019</td>\n",
       "      <td>AUD</td>\n",
       "      <td>15.0</td>\n",
       "      <td>1.799521</td>\n",
       "      <td>26.992815</td>\n",
       "    </tr>\n",
       "    <tr>\n",
       "      <th>1</th>\n",
       "      <td>6</td>\n",
       "      <td>9135670</td>\n",
       "      <td>AU</td>\n",
       "      <td>114780505</td>\n",
       "      <td>Accessories</td>\n",
       "      <td>Accessories</td>\n",
       "      <td>02/08/2019</td>\n",
       "      <td>AUD</td>\n",
       "      <td>33.5</td>\n",
       "      <td>1.799521</td>\n",
       "      <td>60.283953</td>\n",
       "    </tr>\n",
       "    <tr>\n",
       "      <th>2</th>\n",
       "      <td>9</td>\n",
       "      <td>10869093</td>\n",
       "      <td>AU</td>\n",
       "      <td>115216176</td>\n",
       "      <td>Accessories</td>\n",
       "      <td>Accessories</td>\n",
       "      <td>07/08/2019</td>\n",
       "      <td>AUD</td>\n",
       "      <td>65.0</td>\n",
       "      <td>1.799521</td>\n",
       "      <td>116.968865</td>\n",
       "    </tr>\n",
       "    <tr>\n",
       "      <th>3</th>\n",
       "      <td>27</td>\n",
       "      <td>10182131</td>\n",
       "      <td>AU</td>\n",
       "      <td>112217251</td>\n",
       "      <td>Accessories</td>\n",
       "      <td>Accessories</td>\n",
       "      <td>02/08/2019</td>\n",
       "      <td>AUD</td>\n",
       "      <td>40.0</td>\n",
       "      <td>1.799521</td>\n",
       "      <td>71.980840</td>\n",
       "    </tr>\n",
       "    <tr>\n",
       "      <th>4</th>\n",
       "      <td>31</td>\n",
       "      <td>5766224</td>\n",
       "      <td>AU</td>\n",
       "      <td>107519551</td>\n",
       "      <td>Accessories</td>\n",
       "      <td>Accessories</td>\n",
       "      <td>02/08/2019</td>\n",
       "      <td>AUD</td>\n",
       "      <td>25.0</td>\n",
       "      <td>1.799521</td>\n",
       "      <td>44.988025</td>\n",
       "    </tr>\n",
       "  </tbody>\n",
       "</table>\n",
       "</div>"
      ],
      "text/plain": [
       "   purchase_id  buyer_id country  product_id   department     category  \\\n",
       "0            3  10258663      AU   113961581  Accessories  Accessories   \n",
       "1            6   9135670      AU   114780505  Accessories  Accessories   \n",
       "2            9  10869093      AU   115216176  Accessories  Accessories   \n",
       "3           27  10182131      AU   112217251  Accessories  Accessories   \n",
       "4           31   5766224      AU   107519551  Accessories  Accessories   \n",
       "\n",
       "  purchase_date currency  value_of_item      rate  gbp_value_of_item  \n",
       "0    02/08/2019      AUD           15.0  1.799521          26.992815  \n",
       "1    02/08/2019      AUD           33.5  1.799521          60.283953  \n",
       "2    07/08/2019      AUD           65.0  1.799521         116.968865  \n",
       "3    02/08/2019      AUD           40.0  1.799521          71.980840  \n",
       "4    02/08/2019      AUD           25.0  1.799521          44.988025  "
      ]
     },
     "execution_count": 10,
     "metadata": {},
     "output_type": "execute_result"
    }
   ],
   "source": [
    "abt_trans['gbp_value_of_item'] = abt_trans.value_of_item * abt_trans.rate\n",
    "abt_trans.head()"
   ]
  },
  {
   "cell_type": "code",
   "execution_count": 11,
   "metadata": {},
   "outputs": [],
   "source": [
    "# cust_data.shape #(129113,4)\n",
    "# len(trans_data['buyer_id'].unique()) #129283"
   ]
  },
  {
   "cell_type": "code",
   "execution_count": 12,
   "metadata": {},
   "outputs": [],
   "source": [
    "abt = abt_trans = pd.merge(left=abt_trans, right=cust_data, how=\"left\", on=\"buyer_id\")\n",
    "# abt"
   ]
  },
  {
   "cell_type": "code",
   "execution_count": 13,
   "metadata": {},
   "outputs": [],
   "source": [
    "abt.to_csv('cleaned_data/abt.csv', encoding='utf-8', index=False)\n",
    "abt_trans.to_csv('cleaned_data/abt_trans.csv', encoding='utf-8', index=False)"
   ]
  },
  {
   "cell_type": "code",
   "execution_count": 13,
   "metadata": {},
   "outputs": [
    {
     "data": {
      "text/plain": [
       "array(['02/08/2019', '07/08/2019', '03/08/2019', '01/08/2019',\n",
       "       '06/08/2019', '04/08/2019', '05/08/2019'], dtype=object)"
      ]
     },
     "execution_count": 13,
     "metadata": {},
     "output_type": "execute_result"
    }
   ],
   "source": [
    "abt.purchase_date.unique()\n",
    "\n",
    "# 01/08/2019 = Thursday\n",
    "# 02/08/2019 = Friday\n",
    "# 03/08/2019 = Saturday\n",
    "# 04/08/2019 = Sunday\n",
    "# 05/08/2019 = Monday\n",
    "# 06/08/2019 = Tuesday\n",
    "# 07/08/2019 = Wednesday\n",
    "# 03/08/2019 = Saturday"
   ]
  },
  {
   "cell_type": "code",
   "execution_count": 14,
   "metadata": {},
   "outputs": [
    {
     "data": {
      "text/plain": [
       "array(['Accessories', 'Beauty', 'Mens apparel', 'Womens apparel', 'Home',\n",
       "       'Jewellery', 'Kids', 'Shoes', 'Tech'], dtype=object)"
      ]
     },
     "execution_count": 14,
     "metadata": {},
     "output_type": "execute_result"
    }
   ],
   "source": [
    "abt.department.unique()\n"
   ]
  },
  {
   "cell_type": "code",
   "execution_count": 25,
   "metadata": {},
   "outputs": [
    {
     "name": "stdout",
     "output_type": "stream",
     "text": [
      "                category      department\n",
      "0            Accessories     Accessories\n",
      "20690             Beauty          Beauty\n",
      "81942               Home            Home\n",
      "85336          Jewellery       Jewellery\n",
      "99893               Kids            Kids\n",
      "28926     Bottoms - Mens    Mens apparel\n",
      "113246  Outerwear - Mens    Mens apparel\n",
      "141930       Tops - Mens    Mens apparel\n",
      "117320             Shoes           Shoes\n",
      "138654              Tech            Tech\n",
      "34629   Bottoms - Womens  Womens apparel\n",
      "63681            Dresses  Womens apparel\n",
      "101989          Lingerie  Womens apparel\n",
      "107135         Outerwear  Womens apparel\n",
      "174012     Tops - Womens  Womens apparel\n"
     ]
    }
   ],
   "source": [
    "cat_dep = abt[['category', 'department']].drop_duplicates().sort_values(by=['department', 'category'])\n",
    "#.size().reset_index(name='count').sort_values(by=['category', 'department'], ascending=[True, False])\n",
    "print(cat_dep)"
   ]
  },
  {
   "cell_type": "code",
   "execution_count": null,
   "metadata": {},
   "outputs": [],
   "source": [
    "abt.head(), abt.info(), abt.describe()"
   ]
  },
  {
   "cell_type": "code",
   "execution_count": null,
   "metadata": {},
   "outputs": [],
   "source": [
    "# Demographic Breakdown: Gender, Age Group, Membership Length\n",
    "\n",
    "# Grouping by gender, age group, and membership length to analyze purchase patterns\n",
    "gender_analysis = data.groupby('gender')['gbp_value_of_item'].agg(['count', 'sum', 'mean'])\n",
    "age_group_analysis = data.groupby('age_group')['gbp_value_of_item'].agg(['count', 'sum', 'mean'])\n",
    "membership_length_analysis = data.groupby(pd.cut(data['membership_length'], bins=[0, 1, 5, 10, 15]))['gbp_value_of_item'].agg(['count', 'sum', 'mean'])\n",
    "\n",
    "# Display the results\n",
    "gender_analysis, age_group_analysis, membership_length_analysis\n"
   ]
  },
  {
   "cell_type": "code",
   "execution_count": null,
   "metadata": {},
   "outputs": [],
   "source": [
    "# Analyze the demographic breakdown based on gender and age group\n",
    "gender_distribution = data['gender'].value_counts()\n",
    "age_group_distribution = data['age_group'].value_counts()\n",
    "\n",
    "# Plot the distribution of purchases by gender and age group\n",
    "fig, axs = plt.subplots(1, 2, figsize=(14, 6))\n",
    "\n",
    "# Gender distribution\n",
    "axs[0].pie(gender_distribution, labels=gender_distribution.index, autopct='%1.1f%%', colors=['lightcoral', 'lightskyblue'])\n",
    "axs[0].set_title('Purchases by Gender')\n",
    "\n",
    "# Age group distribution\n",
    "axs[1].bar(age_group_distribution.index, age_group_distribution.values, color='mediumseagreen')\n",
    "axs[1].set_title('Purchases by Age Group')\n",
    "axs[1].set_xlabel('Age Group')\n",
    "axs[1].set_ylabel('Number of Purchases')\n",
    "\n",
    "plt.tight_layout()\n",
    "plt.show()\n",
    "\n",
    "# Analyze membership length distribution\n",
    "membership_summary = data['membership_length'].describe()\n",
    "\n",
    "gender_distribution, age_group_distribution, membership_summary"
   ]
  },
  {
   "cell_type": "code",
   "execution_count": null,
   "metadata": {},
   "outputs": [],
   "source": [
    "# Product Categories & Departments Analysis\n",
    "\n",
    "# Grouping by department and category to analyze purchase trends\n",
    "department_analysis = data.groupby('department')['gbp_value_of_item'].agg(['count', 'sum', 'mean']).sort_values(by='sum', ascending=False)\n",
    "category_analysis = data.groupby('category')['gbp_value_of_item'].agg(['count', 'sum', 'mean']).sort_values(by='sum', ascending=False)\n",
    "\n",
    "# Display the results\n",
    "department_analysis, category_analysis\n"
   ]
  },
  {
   "cell_type": "code",
   "execution_count": null,
   "metadata": {},
   "outputs": [],
   "source": [
    "# Purchase Patterns: High-Value Customers and Common Purchase Behaviors\n",
    "\n",
    "# Identifying high-value customers based on total spending\n",
    "customer_spending = data.groupby('buyer_id')['gbp_value_of_item'].agg(['count', 'sum', 'mean']).sort_values(by='sum', ascending=False)\n",
    "\n",
    "# Calculating overall purchase frequency and average spending\n",
    "overall_purchase_behavior = {\n",
    "    'total_purchases': data['purchase_id'].count(),\n",
    "    'total_customers': data['buyer_id'].nunique(),\n",
    "    'average_purchases_per_customer': data.groupby('buyer_id')['purchase_id'].count().mean(),\n",
    "    'average_spend_per_customer': customer_spending['sum'].mean(),\n",
    "    'average_spend_per_purchase': data['gbp_value_of_item'].mean()\n",
    "}\n",
    "\n",
    "# Displaying the top 10 high-value customers and the overall purchase behavior\n",
    "high_value_customers = customer_spending.head(10)\n",
    "high_value_customers, overall_purchase_behavior\n"
   ]
  }
 ],
 "metadata": {
  "kernelspec": {
   "display_name": "base",
   "language": "python",
   "name": "python3"
  },
  "language_info": {
   "codemirror_mode": {
    "name": "ipython",
    "version": 3
   },
   "file_extension": ".py",
   "mimetype": "text/x-python",
   "name": "python",
   "nbconvert_exporter": "python",
   "pygments_lexer": "ipython3",
   "version": "3.12.2"
  }
 },
 "nbformat": 4,
 "nbformat_minor": 2
}
