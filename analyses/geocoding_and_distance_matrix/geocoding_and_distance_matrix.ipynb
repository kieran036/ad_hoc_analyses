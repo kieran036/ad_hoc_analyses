{
 "cells": [
  {
   "cell_type": "code",
   "execution_count": null,
   "id": "2c727fc6",
   "metadata": {},
   "outputs": [],
   "source": [
    "import pandas as pd\n",
    "import requests\n",
    "from urllib.parse import quote"
   ]
  },
  {
   "cell_type": "markdown",
   "id": "9d928a6e",
   "metadata": {},
   "source": [
    "# Data processing"
   ]
  },
  {
   "cell_type": "code",
   "execution_count": null,
   "id": "0626ec0c",
   "metadata": {},
   "outputs": [],
   "source": [
    "## Read in files. Path removed to make code shareable.\n",
    "df_sf = pd.read_csv(Path)\n",
    "df_c360 = pd.read_csv(Path)\n",
    "\n",
    "# display(df_sf)\n",
    "# display(df_c360)"
   ]
  },
  {
   "cell_type": "code",
   "execution_count": null,
   "id": "f2dffb6a",
   "metadata": {},
   "outputs": [],
   "source": [
    "## Drop redundant cols and rename cols for Salesforce data.\n",
    "\n",
    "# df_sf.columns.values.tolist()\n",
    "df_sf = df_sf.drop(['redundant_cols'], axis=1)\n",
    "df_sf.rename(columns = {'Longitude':'Dest_lng', 'Latitude':'Dest_lat', 'Town_City':'Dest_Town_City', 'County':'Dest_county', 'Country':'Dest_country'}, inplace = True)\n",
    "\n",
    "# display(df_sf)\n",
    "# df_sf.County.unique()"
   ]
  },
  {
   "cell_type": "code",
   "execution_count": null,
   "id": "6bcfb563",
   "metadata": {},
   "outputs": [],
   "source": [
    "## Drop na and redundant cols, and rename cols for Salesforce data.\n",
    "\n",
    "df_c360 = df_c360.dropna(subset=['drop na values for this col'])\n",
    "df_c360 = df_c360.drop(['redundant cols'], axis=1)\n",
    "df_c360.rename(columns = {'order_shipping_address':'Origin_address'}, inplace = True)\n",
    "# display(df_c360)"
   ]
  },
  {
   "cell_type": "code",
   "execution_count": null,
   "id": "05d9d3fb",
   "metadata": {},
   "outputs": [],
   "source": [
    "## Join Salesforce and C360 DTC data on coupons.\n",
    "\n",
    "abt = df_sf.merge(df_c360, how='inner', left_on='Code', right_on='key')\n",
    "abt = abt.drop(['Code', 'key'], axis=1)\n",
    "abt = abt.drop_duplicates()\n",
    "abt = abt.reset_index(drop=True)\n",
    "\n",
    "# display(abt)\n",
    "# abt.head(0)"
   ]
  },
  {
   "cell_type": "markdown",
   "id": "64815990",
   "metadata": {},
   "source": [
    "# URL encoding - geocoding"
   ]
  },
  {
   "cell_type": "code",
   "execution_count": null,
   "id": "15afc9e9",
   "metadata": {},
   "outputs": [],
   "source": [
    "## Url encoding (https://developers.google.com/maps/url-encoding) and creating blank columns for populating later.\n",
    "\n",
    "geocoding_p1 = 'https://maps.googleapis.com/maps/api/geocode/json?address='\n",
    "geocoding_p2 = '&region=gb&key='\n",
    "geocoding_api_key = '##API KEY##'\n",
    "abt['geocode'] = geocoding_p1 + abt['Origin_address'] + geocoding_p2 + geocoding_api_key\n",
    "\n",
    "abt['Origin_lat'] = ''\n",
    "abt['Origin_lng'] = ''\n",
    "abt['Origin_admin_area'] = ''\n",
    "abt['Origin_country'] = ''\n",
    "\n",
    "# display(abt)"
   ]
  },
  {
   "cell_type": "code",
   "execution_count": null,
   "id": "00580aef",
   "metadata": {},
   "outputs": [],
   "source": [
    "## View encoding results\n",
    "\n",
    "# print(abt['geocode'][0])\n",
    "# print(abt['dist_matrix'][0])\n",
    "# abt.loc[0]['Dest_lat']"
   ]
  },
  {
   "cell_type": "markdown",
   "id": "79f39319",
   "metadata": {},
   "source": [
    "# Geocoding API - address to coords"
   ]
  },
  {
   "cell_type": "code",
   "execution_count": null,
   "id": "b627ceac",
   "metadata": {},
   "outputs": [],
   "source": [
    "## Geocode shipping addresses continued - using results from previous run but continuing from where left off with using where\n",
    "## latitude values are blank.\n",
    "\n",
    "## For tag country = GB then administrative_area_level_2\n",
    "## For tag country = IE then administrative_area_level_1\n",
    "## For tag country = GG JE IM then country\n",
    "\n",
    "def get_proper_name(response, country):\n",
    "    if country == 'GB':\n",
    "        key = \"administrative_area_level_2\"\n",
    "    elif country == 'IE':\n",
    "        key = \"administrative_area_level_1\"\n",
    "    elif country in ['GG', 'JE', 'IM']:\n",
    "        key = \"country\"\n",
    "\n",
    "    for item in response['results'][0]['address_components']:\n",
    "        if key in item['types']:\n",
    "            return item['long_name']\n",
    "\n",
    "def get_country_tag(response):\n",
    "    for item in response['results'][0]['address_components']:\n",
    "        if 'country' in item['types']:\n",
    "            return item['short_name']\n",
    "\n",
    "for row in range(abt.shape[0]):\n",
    "\n",
    "    if abt['Origin_lat'][row: row+1].isna().bool() == True:\n",
    "        url = quote(abt['geocode'][row], safe='/:=?&')\n",
    "        payload={}\n",
    "        headers = {}\n",
    "        response = requests.request(\"GET\", url, headers=headers, data=payload).json()\n",
    "\n",
    "        if response['status'] == 'OK':\n",
    "            abt.loc[[row],['Origin_lat']] = response['results'][0]['geometry']['location']['lat']\n",
    "            abt.loc[[row],['Origin_lng']] = response['results'][0]['geometry']['location']['lng']\n",
    "            country_tag = get_country_tag(response)\n",
    "            abt.loc[[row],['Origin_admin_area']] = get_proper_name(response, country_tag)\n",
    "            abt.loc[[row],['Origin_country']] = country_tag\n",
    "        else:\n",
    "            abt.loc[[row],['Origin_lat']] = float('NaN')\n",
    "            abt.loc[[row],['Origin_lng']] = float('NaN')\n",
    "            abt.loc[[row],['Origin_admin_area']] = float('NaN')\n",
    "            abt.loc[[row],['Origin_country']] = float('NaN')\n",
    "\n",
    "display(abt)"
   ]
  },
  {
   "cell_type": "code",
   "execution_count": null,
   "id": "2ca6b48c",
   "metadata": {},
   "outputs": [],
   "source": [
    "## Save file to impute errors manually\n",
    "\n",
    "path_to_save = # Path\n",
    "abt.to_csv(path_to_save, index=False)"
   ]
  },
  {
   "cell_type": "code",
   "execution_count": null,
   "id": "6db6c5b6",
   "metadata": {},
   "outputs": [],
   "source": [
    "## Check how many nulls returned from API response.\n",
    "\n",
    "# print(abt['Origin_lat'].isnull().sum())\n",
    "# print(abt['Origin_lng'].isnull().sum())\n",
    "# print(abt['Origin_admin_area'].isnull().sum())\n",
    "# print(abt['Origin_country'].isnull().sum())\n",
    "\n",
    "# print(abt.Origin_country.unique())"
   ]
  },
  {
   "cell_type": "code",
   "execution_count": null,
   "id": "2dc94be0",
   "metadata": {},
   "outputs": [],
   "source": [
    "## Read file after manual imputations where a couple entries didn't work due to consumer shipping address\n",
    "\n",
    "abt = pd.read_csv(Path)"
   ]
  },
  {
   "cell_type": "markdown",
   "id": "8035cb09",
   "metadata": {},
   "source": [
    "# URL encoding - distance matrix"
   ]
  },
  {
   "cell_type": "code",
   "execution_count": null,
   "id": "33dd6ebe",
   "metadata": {},
   "outputs": [],
   "source": [
    "## Url encoding with geocoding api response to find distances.\n",
    "\n",
    "dist_matrix_p1 = 'https://maps.googleapis.com/maps/api/distancematrix/json?origins='\n",
    "dist_matrix_p2 = '&destinations='\n",
    "dist_matrix_p3 = '&units=metric&key='\n",
    "dist_matrix_api_key = '##API KEY##'\n",
    "abt['dist_matrix'] = dist_matrix_p1 + abt['Origin_lat'].astype(str) + ' ' + abt['Origin_lng'].astype(str) + dist_matrix_p2 + abt['Dest_lat'].astype(str) + ' ' + abt['Dest_lng'].astype(str) + dist_matrix_p3 + dist_matrix_api_key\n",
    "\n",
    "abt['Distance_metres'] = ''\n",
    "abt['Distance_secs'] = ''\n",
    "\n",
    "# display(abt)"
   ]
  },
  {
   "cell_type": "markdown",
   "id": "59d6e69c",
   "metadata": {},
   "source": [
    "# Distance matrix API - distance between a to b"
   ]
  },
  {
   "cell_type": "code",
   "execution_count": null,
   "id": "578d677d",
   "metadata": {},
   "outputs": [],
   "source": [
    "## Calculate driving time and distance between origin and destination.\n",
    "\n",
    "for row in range(abt.shape[0]):\n",
    "    url = quote(abt['dist_matrix'][row], safe='/:=?&')\n",
    "    payload={}\n",
    "    headers = {}\n",
    "    response = requests.request(\"GET\", url, headers=headers, data=payload).json()\n",
    "\n",
    "    if response['status'] == 'OK':\n",
    "        abt['Distance_metres'][row] = response['rows'][0]['elements'][0]['distance']['value']\n",
    "        abt['Distance_secs'][row] = response['rows'][0]['elements'][0]['duration']['value']\n",
    "    else:\n",
    "        abt['Distance_metres'][row] = float('NaN')\n",
    "        abt['Distance_secs'][row] = float('NaN')\n",
    "\n",
    "# display(abt)"
   ]
  },
  {
   "cell_type": "code",
   "execution_count": null,
   "id": "05e8a7e3",
   "metadata": {},
   "outputs": [],
   "source": [
    "abt['Distance_km'] = abt['Distance_metres'] * (1/1000)\n",
    "abt['Distance_min'] = abt['Distance_secs']* (1/60)"
   ]
  },
  {
   "cell_type": "code",
   "execution_count": null,
   "id": "62e22762",
   "metadata": {},
   "outputs": [],
   "source": [
    "display(abt)"
   ]
  },
  {
   "cell_type": "code",
   "execution_count": null,
   "id": "9f2b275f",
   "metadata": {},
   "outputs": [],
   "source": [
    "path_to_save = Path\n",
    "abt.to_csv(path_to_save, index=False)"
   ]
  }
 ],
 "metadata": {
  "kernelspec": {
   "display_name": "Python 3.9.7 ('base')",
   "language": "python",
   "name": "python3"
  },
  "language_info": {
   "codemirror_mode": {
    "name": "ipython",
    "version": 3
   },
   "file_extension": ".py",
   "mimetype": "text/x-python",
   "name": "python",
   "nbconvert_exporter": "python",
   "pygments_lexer": "ipython3",
   "version": "3.9.7"
  },
  "vscode": {
   "interpreter": {
    "hash": "87351602af4228a73b6628884b3e5ca9fb5ba10d8a8ab7cfc81325058d93f9fc"
   }
  }
 },
 "nbformat": 4,
 "nbformat_minor": 5
}
