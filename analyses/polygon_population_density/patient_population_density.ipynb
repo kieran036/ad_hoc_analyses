{
 "cells": [
  {
   "cell_type": "markdown",
   "id": "d2de7b79",
   "metadata": {},
   "source": [
    "### Calculates population density using two files (polygon data and population data) only where a polygon intersects with our point of interest to reduce how much compute power is required."
   ]
  },
  {
   "cell_type": "code",
   "execution_count": null,
   "id": "adb14ddd",
   "metadata": {},
   "outputs": [],
   "source": [
    "import pandas as pd\n",
    "import geopandas as gpd"
   ]
  },
  {
   "cell_type": "code",
   "execution_count": null,
   "id": "c6014d2d",
   "metadata": {},
   "outputs": [],
   "source": [
    "## Find shapefile coordinate reference system\n",
    "\n",
    "print(gpd.read_file(path_to_polygon_data).crs)"
   ]
  },
  {
   "cell_type": "code",
   "execution_count": null,
   "id": "ff5ad644",
   "metadata": {},
   "outputs": [],
   "source": [
    "## Read in files.\n",
    "\n",
    "path_to_polygon_data = # Path\n",
    "gdf_polygon = gpd.read_file(path_to_polygon_data)\n",
    "\n",
    "path_to_population_data = # Path\n",
    "df_population = pd.read_csv(path_to_population_data)\n",
    "\n",
    "path_to_points_data = # Path\n",
    "df_points = pd.read_csv(path_to_points_data)"
   ]
  },
  {
   "cell_type": "code",
   "execution_count": null,
   "id": "f6837376",
   "metadata": {},
   "outputs": [],
   "source": [
    "## Calculate area of each polygon.\n",
    "\n",
    "gdf_polygon['area'] = gdf_polygon.geometry.area\n",
    "gdf_polygon.head(2)"
   ]
  },
  {
   "cell_type": "code",
   "execution_count": null,
   "id": "c7d64ee3",
   "metadata": {},
   "outputs": [],
   "source": [
    "## Merge polygons with population attribute.\n",
    "\n",
    "gdf_pop_poly = gdf_polygon.merge(df_population, on='id')\n",
    "gdf_pop_poly.head(2)"
   ]
  },
  {
   "cell_type": "code",
   "execution_count": null,
   "id": "702366e9",
   "metadata": {},
   "outputs": [],
   "source": [
    "## Calculate population density.\n",
    "\n",
    "gdf_pop_poly['pop_density'] = gdf_pop_poly['pop'].divide(gdf_pop_poly['area'], axis=0)\n",
    "gdf_pop_poly.head(2)"
   ]
  },
  {
   "cell_type": "code",
   "execution_count": null,
   "id": "732c3caa",
   "metadata": {},
   "outputs": [],
   "source": [
    "## Create points csv data into geopandas dataframe.\n",
    "\n",
    "gpd_points = gpd.GeoDataFrame(df_points, geometry=gpd.points_from_xy(df_points.Origin_lng, df_points.Origin_lat))\n",
    "gpd_points.head(2)"
   ]
  },
  {
   "cell_type": "code",
   "execution_count": null,
   "id": "6194b9b4",
   "metadata": {},
   "outputs": [],
   "source": [
    "## Join polygon and points where they intersect. Note: No polygon data for Rep. Ireland so Rep. Ireland records show blank.\n",
    "\n",
    "abt = gpd.sjoin(gpd_points, gdf_pop_poly, how='left')\n",
    "abt.head(2)"
   ]
  },
  {
   "cell_type": "code",
   "execution_count": null,
   "id": "5a9e5bd9",
   "metadata": {},
   "outputs": [],
   "source": [
    "abt.shape"
   ]
  },
  {
   "cell_type": "code",
   "execution_count": null,
   "id": "f2a7b60e",
   "metadata": {},
   "outputs": [],
   "source": [
    "## Reorder columns. Order has some cols removed to make code shareable.\n",
    "\n",
    "final_abt = final_abt.reindex(columns=['reordered columns'])"
   ]
  },
  {
   "cell_type": "code",
   "execution_count": null,
   "id": "0c8ab538",
   "metadata": {},
   "outputs": [],
   "source": [
    "## Drop PII columns. Column names removed to make code shareable.\n",
    "\n",
    "final_abt = abt.drop(['dropped columns'], axis = 1)"
   ]
  },
  {
   "cell_type": "code",
   "execution_count": null,
   "id": "851232fe",
   "metadata": {},
   "outputs": [],
   "source": [
    "path_to_save = # Path\n",
    "final_abt.to_csv(path_to_save, index=False)"
   ]
  }
 ],
 "metadata": {
  "kernelspec": {
   "display_name": "Python 3.9.7 ('base')",
   "language": "python",
   "name": "python3"
  },
  "language_info": {
   "codemirror_mode": {
    "name": "ipython",
    "version": 3
   },
   "file_extension": ".py",
   "mimetype": "text/x-python",
   "name": "python",
   "nbconvert_exporter": "python",
   "pygments_lexer": "ipython3",
   "version": "3.9.7"
  },
  "vscode": {
   "interpreter": {
    "hash": "87351602af4228a73b6628884b3e5ca9fb5ba10d8a8ab7cfc81325058d93f9fc"
   }
  }
 },
 "nbformat": 4,
 "nbformat_minor": 5
}
